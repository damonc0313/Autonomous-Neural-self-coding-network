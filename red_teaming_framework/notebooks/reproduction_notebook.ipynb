import sys
import os
import json
import asyncio
from pathlib import Path

# Add the tools directory to path
sys.path.append('../tools')

from model_interface import GPTOSSInterface, ModelResponse
from findings_schema import FindingsManager, Finding
from vulnerability_tests import VulnerabilityDetector

# Configure OpenAI API key
# Make sure to set your OPENAI_API_KEY environment variable
api_key = os.getenv('OPENAI_API_KEY')
if not api_key:
    print("⚠️ Warning: OPENAI_API_KEY not found in environment variables")
    print("Please set your API key before running the tests")

# Initialize model interface
model = GPTOSSInterface(api_key=api_key, model_name="gpt-oss-20b")
print("✅ Model interface initialized")# GPT-OSS-20B Vulnerability Reproduction Notebook

This notebook demonstrates and reproduces the vulnerabilities found during red teaming testing.
Each finding can be verified by running the corresponding code cells.